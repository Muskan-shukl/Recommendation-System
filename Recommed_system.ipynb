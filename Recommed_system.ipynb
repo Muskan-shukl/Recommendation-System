{
 "cells": [
  {
   "cell_type": "code",
   "execution_count": 6,
   "metadata": {},
   "outputs": [],
   "source": [
    "import pandas as pd\n",
    "from sklearn.metrics.pairwise import cosine_similarity"
   ]
  },
  {
   "cell_type": "code",
   "execution_count": 29,
   "metadata": {},
   "outputs": [],
   "source": [
    "ratings={\n",
    "    'Payal':{\n",
    "        'a' : 1,\n",
    "        'b' : 2,\n",
    "        'c' : 3,\n",
    "    },\n",
    "    'Rohit':{\n",
    "        'z' : 1,\n",
    "        'y' : 4,\n",
    "        'x' : 6,\n",
    "    },\n",
    "}"
   ]
  },
  {
   "cell_type": "code",
   "execution_count": 30,
   "metadata": {},
   "outputs": [
    {
     "data": {
      "text/html": [
       "<div>\n",
       "<style scoped>\n",
       "    .dataframe tbody tr th:only-of-type {\n",
       "        vertical-align: middle;\n",
       "    }\n",
       "\n",
       "    .dataframe tbody tr th {\n",
       "        vertical-align: top;\n",
       "    }\n",
       "\n",
       "    .dataframe thead th {\n",
       "        text-align: right;\n",
       "    }\n",
       "</style>\n",
       "<table border=\"1\" class=\"dataframe\">\n",
       "  <thead>\n",
       "    <tr style=\"text-align: right;\">\n",
       "      <th></th>\n",
       "      <th>Payal</th>\n",
       "      <th>Rohit</th>\n",
       "    </tr>\n",
       "  </thead>\n",
       "  <tbody>\n",
       "    <tr>\n",
       "      <th>a</th>\n",
       "      <td>1</td>\n",
       "      <td>Not Seen Yet</td>\n",
       "    </tr>\n",
       "    <tr>\n",
       "      <th>b</th>\n",
       "      <td>2</td>\n",
       "      <td>Not Seen Yet</td>\n",
       "    </tr>\n",
       "    <tr>\n",
       "      <th>c</th>\n",
       "      <td>3</td>\n",
       "      <td>Not Seen Yet</td>\n",
       "    </tr>\n",
       "    <tr>\n",
       "      <th>z</th>\n",
       "      <td>Not Seen Yet</td>\n",
       "      <td>1</td>\n",
       "    </tr>\n",
       "    <tr>\n",
       "      <th>y</th>\n",
       "      <td>Not Seen Yet</td>\n",
       "      <td>4</td>\n",
       "    </tr>\n",
       "    <tr>\n",
       "      <th>x</th>\n",
       "      <td>Not Seen Yet</td>\n",
       "      <td>6</td>\n",
       "    </tr>\n",
       "  </tbody>\n",
       "</table>\n",
       "</div>"
      ],
      "text/plain": [
       "          Payal         Rohit\n",
       "a             1  Not Seen Yet\n",
       "b             2  Not Seen Yet\n",
       "c             3  Not Seen Yet\n",
       "z  Not Seen Yet             1\n",
       "y  Not Seen Yet             4\n",
       "x  Not Seen Yet             6"
      ]
     },
     "execution_count": 30,
     "metadata": {},
     "output_type": "execute_result"
    }
   ],
   "source": [
    "ratings_df=pd.DataFrame(ratings)\n",
    "ratings_df.fillna(\"Not Seen Yet\" , inplace=True)\n",
    "ratings_df"
   ]
  },
  {
   "cell_type": "code",
   "execution_count": 31,
   "metadata": {},
   "outputs": [
    {
     "data": {
      "text/plain": [
       "['y', 'x', 'c', 'b', 'a', 'z']"
      ]
     },
     "execution_count": 31,
     "metadata": {},
     "output_type": "execute_result"
    }
   ],
   "source": [
    "def unique_items():\n",
    "    l = []\n",
    "    for people in ratings.keys():\n",
    "        for movie in ratings[people]:\n",
    "            l.append(movie)\n",
    "    s = set(l)\n",
    "    l = list(s)\n",
    "    return l\n",
    "\n",
    "unique_items()"
   ]
  },
  {
   "cell_type": "code",
   "execution_count": 32,
   "metadata": {},
   "outputs": [
    {
     "data": {
      "text/plain": [
       "0"
      ]
     },
     "execution_count": 32,
     "metadata": {},
     "output_type": "execute_result"
    }
   ],
   "source": [
    "def item_sim(i1,i2):\n",
    "    both_rated = {}\n",
    "    for people in ratings.keys():\n",
    "        if i1 in ratings[people] and i2 in ratings[people]:\n",
    "            both_rated[people] = [ratings[people][i1],ratings[people][i2]]\n",
    "            \n",
    "    number_of_ratings = len(both_rated)\n",
    "    if number_of_ratings == 0:\n",
    "          return 0\n",
    "#     print(both_rated) \n",
    "    \n",
    "    \n",
    "    item1_ratings = [[ratings[k][i1] for k,v in both_rated.items() if i1 in ratings[k] and i2 in ratings[k]]]\n",
    "    item2_ratings = [[ratings[k][i2] for k, v in both_rated.items() if i1 in ratings[k] and i2 in ratings[k]]]\n",
    "    #print(\"{} ratings :: {}\".format(item1,item1_ratings))\n",
    "    #print(\"{} ratings :: {}\".format(item2,item2_ratings))\n",
    "    cs = cosine_similarity(item1_ratings,item2_ratings)\n",
    "    return cs[0][0]\n",
    "    \n",
    "    \n",
    "item_sim(\"a\",\"d\")"
   ]
  },
  {
   "cell_type": "code",
   "execution_count": 23,
   "metadata": {},
   "outputs": [],
   "source": [
    "# print(\"Cosine Similarity:: \",item_sim('a','c'))"
   ]
  },
  {
   "cell_type": "code",
   "execution_count": 33,
   "metadata": {},
   "outputs": [
    {
     "data": {
      "text/plain": [
       "[(1.0, 'a --> c'),\n",
       " (1.0, 'a --> b'),\n",
       " (0, 'a --> z'),\n",
       " (0, 'a --> y'),\n",
       " (0, 'a --> x')]"
      ]
     },
     "execution_count": 33,
     "metadata": {},
     "output_type": "execute_result"
    }
   ],
   "source": [
    "def most_sim_item(target_item):\n",
    "    un=unique_items()\n",
    "    scores = [(item_sim(target_item,other_item),target_item+\" --> \"+other_item) for other_item in un if other_item!=target_item]\n",
    "    scores.sort(reverse=True)\n",
    "    return scores\n",
    "\n",
    "most_sim_item(\"a\")"
   ]
  },
  {
   "cell_type": "code",
   "execution_count": 34,
   "metadata": {},
   "outputs": [],
   "source": [
    "def target_movies_to_users(target_person):\n",
    "    target_person_movie_lst = []\n",
    "    unique_list =unique_items()\n",
    "    for movies in ratings[target_person]:\n",
    "        target_person_movie_lst.append(movies)\n",
    "\n",
    "    s=set(unique_list)\n",
    "    recommended_movies=list(s.difference(target_person_movie_lst))\n",
    "    a = len(recommended_movies)\n",
    "    if a == 0:\n",
    "        return 0\n",
    "    return recommended_movies,target_person_movie_lst\n",
    "\n"
   ]
  },
  {
   "cell_type": "code",
   "execution_count": 35,
   "metadata": {},
   "outputs": [
    {
     "data": {
      "text/html": [
       "<div>\n",
       "<style scoped>\n",
       "    .dataframe tbody tr th:only-of-type {\n",
       "        vertical-align: middle;\n",
       "    }\n",
       "\n",
       "    .dataframe tbody tr th {\n",
       "        vertical-align: top;\n",
       "    }\n",
       "\n",
       "    .dataframe thead th {\n",
       "        text-align: right;\n",
       "    }\n",
       "</style>\n",
       "<table border=\"1\" class=\"dataframe\">\n",
       "  <thead>\n",
       "    <tr style=\"text-align: right;\">\n",
       "      <th></th>\n",
       "      <th>Unseen Movies</th>\n",
       "      <th>Seen Movies</th>\n",
       "    </tr>\n",
       "  </thead>\n",
       "  <tbody>\n",
       "    <tr>\n",
       "      <th>0</th>\n",
       "      <td>y</td>\n",
       "      <td>a</td>\n",
       "    </tr>\n",
       "    <tr>\n",
       "      <th>1</th>\n",
       "      <td>x</td>\n",
       "      <td>b</td>\n",
       "    </tr>\n",
       "    <tr>\n",
       "      <th>2</th>\n",
       "      <td>z</td>\n",
       "      <td>c</td>\n",
       "    </tr>\n",
       "  </tbody>\n",
       "</table>\n",
       "</div>"
      ],
      "text/plain": [
       "  Unseen Movies Seen Movies\n",
       "0             y           a\n",
       "1             x           b\n",
       "2             z           c"
      ]
     },
     "execution_count": 35,
     "metadata": {},
     "output_type": "execute_result"
    }
   ],
   "source": [
    "unseen_movies,seen_movies=target_movies_to_users('Payal')\n",
    "dct = {\"Unseen Movies\":unseen_movies,\"Seen Movies\":seen_movies}\n",
    "pd.DataFrame(dct)"
   ]
  },
  {
   "cell_type": "code",
   "execution_count": 39,
   "metadata": {},
   "outputs": [
    {
     "data": {
      "text/plain": [
       "[[1.0, 'c'], [1.0, 'b'], [1.0, 'a']]"
      ]
     },
     "execution_count": 39,
     "metadata": {},
     "output_type": "execute_result"
    }
   ],
   "source": [
    "def recommendation_phase(target_person):\n",
    "    if target_movies_to_users(target_person=target_person) == 0:\n",
    "        print(target_person, \"has seen all the movies\")\n",
    "        return -1\n",
    "    not_seen_movies,seen_movies=target_movies_to_users(target_person=target_person)\n",
    "    seen_ratings = [[ratings[target_person][movies],movies] for movies in ratings[target_person]]\n",
    "    weighted_avg,weighted_sim = 1,1\n",
    "    rankings =[]\n",
    "    for i in not_seen_movies:\n",
    "        for rate,movie in seen_ratings:\n",
    "            item_simm=item_sim(i,movie)\n",
    "            weighted_avg +=(item_simm*rate)\n",
    "            weighted_sim +=item_simm\n",
    "        weighted_rank=weighted_avg/weighted_sim\n",
    "        rankings.append([weighted_rank,i])\n",
    "\n",
    "    rankings.sort(reverse=True)\n",
    "    return rankings\n",
    "recommendation_phase(\"Rohit\")\n"
   ]
  },
  {
   "cell_type": "code",
   "execution_count": 40,
   "metadata": {},
   "outputs": [
    {
     "name": "stdout",
     "output_type": "stream",
     "text": [
      "Enter the target person\n",
      "Rohit\n",
      "Recommendation Using Item based Collaborative Filtering:  \n",
      "c  --->  1.0\n",
      "b  --->  1.0\n",
      "a  --->  1.0\n"
     ]
    }
   ],
   "source": [
    "print(\"Enter the target person\")\n",
    "tp = input().title()\n",
    "if tp in ratings.keys():\n",
    "    a=recommendation_phase(tp)\n",
    "    if a != -1:\n",
    "        print(\"Recommendation Using Item based Collaborative Filtering:  \")\n",
    "        for w,m in a:\n",
    "            print(m,\" ---> \",w)\n",
    "else:\n",
    "    print(\"Person not found in the dataset..please try again\")"
   ]
  },
  {
   "cell_type": "code",
   "execution_count": null,
   "metadata": {},
   "outputs": [],
   "source": []
  }
 ],
 "metadata": {
  "kernelspec": {
   "display_name": "Python 3",
   "language": "python",
   "name": "python3"
  },
  "language_info": {
   "codemirror_mode": {
    "name": "ipython",
    "version": 3
   },
   "file_extension": ".py",
   "mimetype": "text/x-python",
   "name": "python",
   "nbconvert_exporter": "python",
   "pygments_lexer": "ipython3",
   "version": "3.8.5"
  }
 },
 "nbformat": 4,
 "nbformat_minor": 4
}
